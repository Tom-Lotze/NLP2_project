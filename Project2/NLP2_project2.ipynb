{
  "nbformat": 4,
  "nbformat_minor": 0,
  "metadata": {
    "colab": {
      "name": "NLP2-project2.ipynb",
      "provenance": [],
      "collapsed_sections": [],
      "toc_visible": true
    },
    "kernelspec": {
      "name": "python3",
      "display_name": "Python 3"
    },
    "accelerator": "GPU"
  },
  "cells": [
    {
      "cell_type": "markdown",
      "metadata": {
        "id": "IZRbXC0YwCd_"
      },
      "source": [
        "# NLP2 Project 2: Cross-Lingual Transfer Learning\n",
        "Authors: Berend Jansen (11051949) & Tom Lotze (11161159)\n",
        "\n",
        "The structure of the notebook can be seen in the table of contents, and is as follows: \n",
        "- We train an MLP to learn the translation \n",
        "- Using this MLP we translate all test data once (for efficiency)\n",
        "- We train a custom prediction head on top of BERT\n",
        "- We evaluate the general performance of our model and the BERTje model\n",
        "- We perform 2 experiments: Sentence length & POS-tags\n",
        "- We do an ablation study, using google translate data"
      ]
    },
    {
      "cell_type": "markdown",
      "metadata": {
        "id": "rD4u76v0TcqR"
      },
      "source": [
        "# Setup"
      ]
    },
    {
      "cell_type": "code",
      "metadata": {
        "id": "kGdxvQFEUDXn"
      },
      "source": [
        "%%capture\n",
        "!pip install transformers"
      ],
      "execution_count": null,
      "outputs": []
    },
    {
      "cell_type": "code",
      "metadata": {
        "id": "TOOE3nooTO8P"
      },
      "source": [
        "from transformers import AutoTokenizer, AutoModelWithLMHead, BertForMaskedLM, BertTokenizer\n",
        "from transformers import PretrainedConfig, BertConfig, BertModel\n",
        "from transformers.modeling_bert import BertOnlyMLMHead\n",
        "import torch.nn as nn\n",
        "import torch\n",
        "import copy\n",
        "import os\n",
        "import pickle as pkl\n",
        "from sklearn import linear_model\n",
        "from sklearn.model_selection import train_test_split, KFold\n",
        "from sklearn.metrics import mean_squared_error\n",
        "import matplotlib.pyplot as plt\n",
        "import numpy as np\n",
        "from scipy.spatial import distance\n",
        "from collections import Counter"
      ],
      "execution_count": null,
      "outputs": []
    },
    {
      "cell_type": "code",
      "metadata": {
        "id": "rs5HMjKfTYSt",
        "outputId": "fbad169f-279d-46d9-e4b4-657125b77773",
        "colab": {
          "base_uri": "https://localhost:8080/",
          "height": 124
        }
      },
      "source": [
        "# mount drive\n",
        "from google.colab import drive\n",
        "drive.mount('/content/Drive/')"
      ],
      "execution_count": null,
      "outputs": [
        {
          "output_type": "stream",
          "text": [
            "Go to this URL in a browser: https://accounts.google.com/o/oauth2/auth?client_id=947318989803-6bn6qk8qdgf4n4g3pfee6491hc0brc4i.apps.googleusercontent.com&redirect_uri=urn%3aietf%3awg%3aoauth%3a2.0%3aoob&response_type=code&scope=email%20https%3a%2f%2fwww.googleapis.com%2fauth%2fdocs.test%20https%3a%2f%2fwww.googleapis.com%2fauth%2fdrive%20https%3a%2f%2fwww.googleapis.com%2fauth%2fdrive.photos.readonly%20https%3a%2f%2fwww.googleapis.com%2fauth%2fpeopleapi.readonly\n",
            "\n",
            "Enter your authorization code:\n",
            "··········\n",
            "Mounted at /content/Drive/\n"
          ],
          "name": "stdout"
        }
      ]
    },
    {
      "cell_type": "markdown",
      "metadata": {
        "id": "pkRolkFVh5ki"
      },
      "source": [
        "NB: Please make sure the data directory can be accessed"
      ]
    },
    {
      "cell_type": "code",
      "metadata": {
        "id": "Szj7UetfTUz4",
        "outputId": "e93da0e2-1e00-47ff-8814-d0ce14116183",
        "colab": {
          "base_uri": "https://localhost:8080/",
          "height": 34
        }
      },
      "source": [
        "# correct directory\n",
        "os.chdir('/content/Drive/My Drive/Colab Notebooks/NLP2/Project_2/')\n",
        "os.getcwd()"
      ],
      "execution_count": null,
      "outputs": [
        {
          "output_type": "execute_result",
          "data": {
            "text/plain": [
              "'/content/Drive/My Drive/Colab Notebooks/NLP2/Project_2'"
            ]
          },
          "metadata": {
            "tags": []
          },
          "execution_count": 5
        }
      ]
    },
    {
      "cell_type": "code",
      "metadata": {
        "id": "f0gOybL7mv2d"
      },
      "source": [
        "# import BERTje and BERT models, tokenizers and embeddings\n",
        "device = torch.device(\"cuda\" if torch.cuda.is_available() else \"cpu\")\n",
        "BERTje = BertForMaskedLM.from_pretrained(\"wietsedv/bert-base-dutch-cased\").to(device)\n",
        "BERT = BertForMaskedLM.from_pretrained('bert-base-cased').to(device)\n",
        "\n",
        "bertje_tokenizer = AutoTokenizer.from_pretrained('wietsedv/bert-base-dutch-cased')\n",
        "bert_tokenizer = BertTokenizer.from_pretrained('bert-base-cased')\n",
        "\n",
        "bertje_embeds = BERTje.get_input_embeddings()\n",
        "bert_embeds = BERT.get_input_embeddings()\n"
      ],
      "execution_count": null,
      "outputs": []
    },
    {
      "cell_type": "markdown",
      "metadata": {
        "id": "JpnX22oQjWD1"
      },
      "source": [
        "# MLP architecture to train embedding transformation\n",
        "\n"
      ]
    },
    {
      "cell_type": "markdown",
      "metadata": {
        "id": "QPA3nVX8645l"
      },
      "source": [
        "## Model"
      ]
    },
    {
      "cell_type": "code",
      "metadata": {
        "id": "sBDt0YHA6p14"
      },
      "source": [
        "# define simple MLP\n",
        "class MLP(nn.Module):\n",
        "    \"\"\"Simple Pytorch Multi-layer perceptron class\"\"\"\n",
        "    def __init__(self, n_inputs, n_hidden, n_classes, neg_slope):\n",
        "        super(MLP, self).__init__()\n",
        "        layer_list = []\n",
        "        if n_hidden:\n",
        "            for nr_nodes in n_hidden:\n",
        "                layer_list.append(nn.Linear(n_inputs, nr_nodes))\n",
        "                layer_list.append(nn.LeakyReLU(neg_slope))\n",
        "                n_inputs = nr_nodes\n",
        "        layer_list += [nn.Linear(n_inputs, n_classes)]\n",
        "        self.layers = nn.ModuleList(layer_list)\n",
        "        print(self.layers)\n",
        "    def forward(self, x):\n",
        "        for layer in self.layers:\n",
        "            x = layer(x)\n",
        "        out = x\n",
        "        return out\n"
      ],
      "execution_count": null,
      "outputs": []
    },
    {
      "cell_type": "markdown",
      "metadata": {
        "id": "MeKoqHAa62pK"
      },
      "source": [
        "## Data\n",
        "- We create a training dataset for our MLP model, which learns a mapping from Dutch (BERTje) embeddings to English (BERT)Embeddings. \n",
        "- We extract the 40k most common words from the training set and obtain the tokenized tokens for those words. \n",
        "- To find the corresponding English words, we translated the 40k most common words using Google translate (word per word translation). To improve data quality, we filter out instances which include hashtags (#) from the tokenizer, are numeric or have a length of 2 or less characters. Moreover, we filter out instances for which the english translation consists of 2 or more words (e.g. \"`geven`\" --> \"`to give`\")\n",
        "- After filtering, there are 9833 pairs of `dutch - english` tokens left. We obtain the embeddings using the `BERTje` and `BERT` tokenizer respectively, and create a dataloader that we can use for training the MLP"
      ]
    },
    {
      "cell_type": "markdown",
      "metadata": {
        "id": "Sv6n7xcbnJKZ"
      },
      "source": [
        "NB: The following three cells are commented, as they only need to be run once, to create the dataset for training"
      ]
    },
    {
      "cell_type": "code",
      "metadata": {
        "id": "LxJukQio6zjT"
      },
      "source": [
        "# from collections import Counter\n",
        "\n",
        "# with open(\"./data/train.txt\") as f:\n",
        "#     data = bertje_tokenizer.tokenize(f.read())\n",
        "\n",
        "# c = Counter([i for i in data if \"#\" not in i and i.isalpha() and i[0].islower() and len(i) > 2])\n",
        "# most_common_dutch_raw = [i[0] for i in c.most_common(40000)]\n",
        "# with open(\"./data/MLP/most_common_dutch40k.txt\", \"w\") as f:\n",
        "#     for word in most_common_dutch_raw:\n",
        "#         f.write(f\"{word}\\n\")"
      ],
      "execution_count": null,
      "outputs": []
    },
    {
      "cell_type": "code",
      "metadata": {
        "id": "q_VXfA3AAcf6"
      },
      "source": [
        "# with open(\"./data/MLP/most_common_dutch40k.txt\") as f:\n",
        "#     most_common_dutch = [i.strip() for i in f.readlines()]\n",
        "# with open(\"./data/MLP/most_common_english40k.txt\") as f:\n",
        "#     most_common_english = [i.strip() for i in f.readlines()]"
      ],
      "execution_count": null,
      "outputs": []
    },
    {
      "cell_type": "code",
      "metadata": {
        "id": "deIKWpN6A9g7"
      },
      "source": [
        "# # remove double english words:\n",
        "# most_common_dutch_filtered = []\n",
        "# most_common_english_filtered = []\n",
        "# for d, e in zip(most_common_dutch, most_common_english):\n",
        "#     if len(e.split()) > 1:\n",
        "#         continue\n",
        "#     most_common_dutch_filtered.append(d)\n",
        "#     most_common_english_filtered.append(e)\n",
        "\n",
        "# # save as txt files\n",
        "\n",
        "# with open(\"./data/MLP/most_common_dutch_filtered.txt\", \"w\") as f:\n",
        "#     for w in most_common_dutch_filtered:\n",
        "#         f.write(f\"{w.lower()}\\n\")\n",
        "# with open(\"./data/MLP/most_common_english_filtered.txt\", \"w\") as f:\n",
        "#     for w in most_common_english_filtered:\n",
        "#         f.write(f\"{w.lower()}\\n\")"
      ],
      "execution_count": null,
      "outputs": []
    },
    {
      "cell_type": "code",
      "metadata": {
        "id": "n5krJmZFOTFG"
      },
      "source": [
        "with open(\"./data/MLP/most_common_dutch_filtered.txt\", \"r\") as f:\n",
        "    most_common_dutch_filtered = [w.strip() for w in f.readlines()]\n",
        "with open(\"./data/MLP/most_common_english_filtered.txt\", \"r\") as f:\n",
        "    most_common_english_filtered = [w.strip() for w in f.readlines()]\n",
        "\n",
        "assert(len(most_common_dutch_filtered) == len(most_common_english_filtered))"
      ],
      "execution_count": null,
      "outputs": []
    },
    {
      "cell_type": "code",
      "metadata": {
        "id": "ODfxczZLPFWE"
      },
      "source": [
        "# retrieve embedding\n",
        "most_common_dutch_tokens = bertje_tokenizer.convert_tokens_to_ids(most_common_dutch_filtered)\n",
        "most_common_english_tokens = bert_tokenizer.convert_tokens_to_ids(most_common_english_filtered)\n",
        "\n",
        "most_common_dutch_tokens_filtered = []\n",
        "most_common_english_tokens_filtered = []\n",
        "\n",
        "# filter out unknowns, 100 is unknown in BERT model, 0 is unknown in bertje\n",
        "for token_d, token_e in zip(most_common_dutch_tokens, most_common_english_tokens):\n",
        "    if token_d == 0 or token_e == 100:\n",
        "        continue\n",
        "    most_common_dutch_tokens_filtered.append(token_d)\n",
        "    most_common_english_tokens_filtered.append(token_e)\n",
        "\n",
        "dutch_embeddings = bertje_embeds(torch.Tensor(most_common_dutch_tokens_filtered).long())\n",
        "english_embeddings = bert_embeds(torch.Tensor(most_common_english_tokens_filtered).long())"
      ],
      "execution_count": null,
      "outputs": []
    },
    {
      "cell_type": "code",
      "metadata": {
        "id": "zN0_Z5_FU2d6",
        "outputId": "6be1de85-d554-4ee0-df7e-5e31f1719f02",
        "colab": {
          "base_uri": "https://localhost:8080/",
          "height": 34
        }
      },
      "source": [
        "print(f\"Number of training pairs: {len(dutch_embeddings)}\")"
      ],
      "execution_count": null,
      "outputs": [
        {
          "output_type": "execute_result",
          "data": {
            "text/plain": [
              "9833"
            ]
          },
          "metadata": {
            "tags": []
          },
          "execution_count": 8
        }
      ]
    },
    {
      "cell_type": "code",
      "metadata": {
        "id": "ZPgocPUPQBU0"
      },
      "source": [
        "# create dataloader\n",
        "from torch.utils.data import TensorDataset, DataLoader, random_split\n",
        "from torch.autograd import Variable\n",
        "dataset = TensorDataset(dutch_embeddings, english_embeddings)\n",
        "length = len(dutch_embeddings)\n",
        "train_len, valid_len = int(0.8*length), int(0.1*length)\n",
        "test_len = length - train_len - valid_len\n",
        "splits = [train_len, valid_len, test_len]\n",
        "train_data, val_data, test_data = random_split(dataset, splits)\n",
        "\n",
        "train_loader = DataLoader(train_data, batch_size=256, shuffle=True)\n",
        "valid_loader = DataLoader(val_data, batch_size=512, shuffle=True)\n",
        "test_loader = DataLoader(test_data, batch_size=512, shuffle=True)"
      ],
      "execution_count": null,
      "outputs": []
    },
    {
      "cell_type": "markdown",
      "metadata": {
        "id": "OUOodI2e60c3"
      },
      "source": [
        "## Training"
      ]
    },
    {
      "cell_type": "code",
      "metadata": {
        "id": "jzTxovZCywjf"
      },
      "source": [
        "# Default constants\n",
        "LEARNING_RATE_DEFAULT = 1e-3\n",
        "NR_EPOCHS_DEFAULT = 10\n",
        "EVAL_FREQ_DEFAULT = 100\n",
        "NEG_SLOPE_DEFAULT = 0.02\n",
        "DATA_DIR_DEFAULT = \"./data/\"\n",
        "wd = 0\n",
        "\n",
        "def train():\n",
        "    dnn_hidden_units = []\n",
        "    \n",
        "    # use GPU if available\n",
        "    device = torch.device(\"cuda\" if torch.cuda.is_available() else \"cpu\")\n",
        "    print(\"Device :\", device)\n",
        "    \n",
        "    # initialize MLP\n",
        "    net = MLP(768, dnn_hidden_units, 768, NEG_SLOPE_DEFAULT).to(device)\n",
        "\n",
        "    # initialize optimizer\n",
        "    optimizer = torch.optim.Adam(net.parameters(), lr=LEARNING_RATE_DEFAULT, weight_decay=wd)\n",
        "    step = 0\n",
        "    training_losses = []\n",
        "    valid_losses = []\n",
        "\n",
        "\n",
        "    # perform the forward step, backward step and updating of weights max_steps number of times,\n",
        "    for epoch in range(NR_EPOCHS_DEFAULT):\n",
        "        if (epoch+1) % 10 == 0:\n",
        "            print(f\"Epoch: {epoch+1}\")\n",
        "        for i, (x, y) in enumerate(train_loader):\n",
        "            optimizer.zero_grad()\n",
        "            x, y = torch.tensor(x, requires_grad=True).to(device), torch.tensor(y, requires_grad=True).to(device)\n",
        "            pred = net(x)\n",
        "\n",
        "            # compute sum of squared error as loss\n",
        "            loss = torch.mean(torch.sum((y - pred).pow(2), dim=1), dim=0)\n",
        "            loss.backward()\n",
        "            optimizer.step()\n",
        "\n",
        "            training_losses.append(loss.item())\n",
        "            if step % 50 == 0:\n",
        "                print(f\"batch {step}, loss: {loss.item()}\")\n",
        "        \n",
        "            # evaluation on validation set\n",
        "            if (step+1) % 100 == 0:\n",
        "                valid_loss = eval_no_grad(net, valid_loader, device)\n",
        "                valid_losses.append(valid_loss)\n",
        "                print(f\"valid_loss at step {step+1}: {valid_loss}\")\n",
        "            \n",
        "            step += 1\n",
        "\n",
        "    # compute loss and accuracy on the test set after training\n",
        "    test_loss = eval_no_grad(net, test_loader, device)\n",
        "\n",
        "    # save the model, final (trained) saved as MLP_final.pt\n",
        "    torch.save(net, f\"./models/embedding_transform_model_{len(dnn_hidden_units)}_Adam_wd{wd}_eucl_40k.pt\")\n",
        "\n",
        "    return training_losses, valid_losses, test_loss\n",
        "\n",
        "def eval_no_grad(net, loader, device):\n",
        "    \"\"\"Evaluate the model on a test set without updating the model\"\"\"\n",
        "    batch_valid_list  = []\n",
        "    with torch.no_grad():\n",
        "        for j, (x_val, y_val) in enumerate(loader):\n",
        "            x_val = torch.tensor(x_val, requires_grad=False).to(device)\n",
        "            y_val = torch.tensor(y_val, requires_grad=False).to(device)\n",
        "            pred_val = net(x_val)\n",
        "            val_loss = torch.mean(torch.sum((y_val - pred_val).pow(2), dim=1), dim=0)\n",
        "            batch_valid_list.append(val_loss.item())\n",
        "        valid_loss = np.mean(batch_valid_list)\n",
        "            \n",
        "    return valid_loss\n",
        "\n",
        "\n",
        "training_losses, valid_losses, test_loss = train()\n",
        "\n"
      ],
      "execution_count": null,
      "outputs": []
    },
    {
      "cell_type": "markdown",
      "metadata": {
        "id": "GSvTP3724n-8"
      },
      "source": [
        "### Loss plots"
      ]
    },
    {
      "cell_type": "code",
      "metadata": {
        "id": "fhUpUfqdWXOJ"
      },
      "source": [
        "import matplotlib.pyplot as plt\n",
        "plt.plot(range(1, len(training_losses)+1), training_losses)\n",
        "plt.title(\"Training losses per batch\")\n",
        "plt.show()"
      ],
      "execution_count": null,
      "outputs": []
    },
    {
      "cell_type": "code",
      "metadata": {
        "id": "nFdJHPAnkQDH"
      },
      "source": [
        "plt.plot(range(1, len(valid_losses)+1), valid_losses)\n",
        "plt.title(\"Validation losses, every 100 batches\")\n",
        "plt.show()"
      ],
      "execution_count": null,
      "outputs": []
    },
    {
      "cell_type": "markdown",
      "metadata": {
        "id": "EW2Kkiet4w0F"
      },
      "source": [
        "### Check performance"
      ]
    },
    {
      "cell_type": "code",
      "metadata": {
        "id": "BoEAPBjhxDfO"
      },
      "source": [
        "device = torch.device(\"cuda\" if torch.cuda.is_available() else \"cpu\")\n",
        "net = torch.load(\"./models/MLP_final.pt\", map_location=device)"
      ],
      "execution_count": null,
      "outputs": []
    },
    {
      "cell_type": "code",
      "metadata": {
        "id": "H2jMCp2vnQZd",
        "outputId": "10799c44-9d1e-45cc-af9e-0f8515b1c626",
        "colab": {
          "base_uri": "https://localhost:8080/",
          "height": 799
        }
      },
      "source": [
        "with torch.no_grad():\n",
        "    net.eval() \n",
        "    # test for random word\n",
        "    for word in [\",\", \".\", \"?\", \"!\",\"dit\", \"Dit\", \"geven\", \"tankstation\", \n",
        "                 \"supermarkt\", \"auto\", \"God\", \"ziekenhuis\", \"horizontaal\", \n",
        "                 \"afgrijselijk\", \"verticaal\"]:\n",
        "        dutch_id = bertje_tokenizer.convert_tokens_to_ids([w for w in word.split()])\n",
        "        print(f\"Dutch id: {dutch_id[0]} with corresponding token: {bertje_tokenizer.convert_ids_to_tokens(dutch_id)[0]}\")\n",
        "        \n",
        "        dutch_embedding = bertje_embeds(torch.Tensor(dutch_id).long().to(device)).to(device)\n",
        "        translated_embedding = net(dutch_embedding)\n",
        "        cossim = nn.CosineSimilarity()\n",
        "        \n",
        "        all_en_embeddings = bert_embeds(torch.Tensor(list(range(\n",
        "            bert_tokenizer.vocab_size))).to(device).long())\n",
        "        sims = cossim(all_en_embeddings, translated_embedding.detach())\n",
        "        top5_ids = torch.argsort(sims, descending=True)[:5]\n",
        "        \n",
        "        top5_tokens = bert_tokenizer.convert_ids_to_tokens(top5_ids)\n",
        "        print(f\"top5 tokens: {top5_tokens}\\n\")\n",
        "\n"
      ],
      "execution_count": null,
      "outputs": [
        {
          "output_type": "stream",
          "text": [
            "Dutch id: 11 with corresponding token: ,\n",
            "top5 tokens: ['and', 'but', ',', 'as', 'to']\n",
            "\n",
            "Dutch id: 13 with corresponding token: .\n",
            "top5 tokens: ['with', 'and', ',', 'that', 'to']\n",
            "\n",
            "Dutch id: 27 with corresponding token: ?\n",
            "top5 tokens: ['ask', 'want', 'know', 'asked', 'said']\n",
            "\n",
            "Dutch id: 5 with corresponding token: !\n",
            "top5 tokens: ['!', 'said', 'with', '...', 'and']\n",
            "\n",
            "Dutch id: 10761 with corresponding token: dit\n",
            "top5 tokens: ['this', 'that', 'it', 'the', 'these']\n",
            "\n",
            "Dutch id: 2161 with corresponding token: Dit\n",
            "top5 tokens: ['this', 'that', 'which', 'This', 'here']\n",
            "\n",
            "Dutch id: 12543 with corresponding token: geven\n",
            "top5 tokens: ['give', 'provide', 'have', 'take', 'make']\n",
            "\n",
            "Dutch id: 19860 with corresponding token: tankstation\n",
            "top5 tokens: ['supermarket', 'bakery', 'pharmacy', 'brewery', 'automobile']\n",
            "\n",
            "Dutch id: 19778 with corresponding token: supermarkt\n",
            "top5 tokens: ['supermarket', 'bakery', 'pharmacy', 'bookstore', 'brewery']\n",
            "\n",
            "Dutch id: 8641 with corresponding token: auto\n",
            "top5 tokens: ['car', 'vehicle', 'truck', 'bike', 'automobile']\n",
            "\n",
            "Dutch id: 2985 with corresponding token: God\n",
            "top5 tokens: ['God', 'gods', 'god', 'heaven', 'divine']\n",
            "\n",
            "Dutch id: 22760 with corresponding token: ziekenhuis\n",
            "top5 tokens: ['hospital', 'hospitals', 'clinic', 'Hospital', 'pharmacy']\n",
            "\n",
            "Dutch id: 13445 with corresponding token: horizontaal\n",
            "top5 tokens: ['horizontal', 'vertical', 'horizontally', 'vertically', 'cylindrical']\n",
            "\n",
            "Dutch id: 8267 with corresponding token: afgrijselijk\n",
            "top5 tokens: ['horrific', 'hideous', 'horrible', 'disgusting', 'dreadful']\n",
            "\n",
            "Dutch id: 21420 with corresponding token: verticaal\n",
            "top5 tokens: ['horizontal', 'vertical', 'vertically', 'horizontally', 'symmetrical']\n",
            "\n"
          ],
          "name": "stdout"
        }
      ]
    },
    {
      "cell_type": "markdown",
      "metadata": {
        "id": "gL3NSidGeJMK"
      },
      "source": [
        "#Translate train and test data\n",
        "Code is set to translate test data, but by renaming the filenames we also translated the training data"
      ]
    },
    {
      "cell_type": "code",
      "metadata": {
        "id": "ciIugTx1MBy-"
      },
      "source": [
        "all_en_embeddings = bert_embeds(torch.Tensor(list(range(\n",
        "    bert_tokenizer.vocab_size))).to(device).long())\n",
        "all_nl_embeddings = bertje_embeds(torch.Tensor(list(range(\n",
        "    bertje_tokenizer.vocab_size))).to(device).long())\n",
        "cossim = nn.CosineSimilarity(dim=-1)\n",
        "\n",
        "with open(\"./data/test.txt\") as f_nl:\n",
        "    dutch_text = [i.strip() for i in f_nl.readlines()]\n",
        "with open(\"./data/test_EN.txt\", \"w\") as f_en:  \n",
        "    for i, sentence in enumerate(dutch_text):\n",
        "        if i % 50 == 0:\n",
        "            print(f\"iteration: {i}\")\n",
        "\n",
        "        # tokenize sentence and obtain embedding\n",
        "        tokenized_sentence = bertje_tokenizer.tokenize(sentence)\n",
        "        dutch_embedding = bertje_embeds(torch.Tensor(\n",
        "            bertje_tokenizer.convert_tokens_to_ids(\n",
        "                tokenized_sentence)).long().to(device))\n",
        "\n",
        "        # feed the batch with all embeddings to MLP\n",
        "        en_embeddings = net(dutch_embedding)\n",
        "\n",
        "        for word_embed in en_embeddings:\n",
        "            cosine = cossim(all_en_embeddings, word_embed)\n",
        "            best_match = torch.argmax(cosine)\n",
        "            f_en.write(f\"{best_match} \")\n",
        "        f_en.write(\"\\n\")\n"
      ],
      "execution_count": null,
      "outputs": []
    },
    {
      "cell_type": "markdown",
      "metadata": {
        "id": "m0iTxwTrsR5L"
      },
      "source": [
        "# Custom prediction head"
      ]
    },
    {
      "cell_type": "code",
      "metadata": {
        "id": "mkZXxpX6xN4P"
      },
      "source": [
        "# create the dataloader pickle file once (produces a large file!)\n",
        "!python data/dataloader_train_EN.py"
      ],
      "execution_count": null,
      "outputs": []
    },
    {
      "cell_type": "code",
      "metadata": {
        "id": "IgnIwWXVwKEL"
      },
      "source": [
        "with open('./data/Train/dataloader_train_EN.p', 'rb') as f:\n",
        "    EN_train_set = pkl.load(f)"
      ],
      "execution_count": null,
      "outputs": []
    },
    {
      "cell_type": "code",
      "metadata": {
        "id": "o0pxCD_mBds_"
      },
      "source": [
        "# import dataloader and set model types\n",
        "from dataloader_padded import load_padded_batches_EN\n",
        "\n",
        "device = torch.device(\"cuda\" if torch.cuda.is_available() else \"cpu\")\n",
        "BERT_encoder = BertModel.from_pretrained('bert-base-cased').to(device)\n",
        "custom_config = BertConfig.from_pretrained('bert-base-cased')\n",
        "custom_config.update({'vocab_size': bertje_tokenizer.vocab_size})\n",
        "EN2NL_head = BertOnlyMLMHead(custom_config).to(device)"
      ],
      "execution_count": null,
      "outputs": []
    },
    {
      "cell_type": "markdown",
      "metadata": {
        "id": "fcCm1RfCcug5"
      },
      "source": [
        "### Training"
      ]
    },
    {
      "cell_type": "code",
      "metadata": {
        "id": "ZrsJBwUesUu8"
      },
      "source": [
        "from transformers import AdamW\n",
        "EN2NL_head.train()\n",
        "BERT_encoder.eval()\n",
        "\n",
        "training_losses = []\n",
        "\n",
        "from dataloader_padded import load_padded_batches_EN\n",
        "optimizer = AdamW(EN2NL_head.parameters(), lr = 5e-5, weight_decay=1e-5)\n",
        "loss_fct = nn.CrossEntropyLoss(reduction='mean')\n",
        "for epoch in [1, 2, 3, 4, 5]:\n",
        "    print(f\"Epoch: {epoch}\")\n",
        "    for i, (x, y, attn_masks, idx) in enumerate(load_padded_batches_EN(EN_train_set, batch_size=16)):\n",
        "        B = x.shape[0]\n",
        "        \n",
        "        optimizer.zero_grad()\n",
        "        x = torch.Tensor(x).to(device).long()\n",
        "        y = torch.Tensor(y).to(device).long()\n",
        "        attn_masks = torch.Tensor(attn_masks).to(device).long()\n",
        "        \n",
        "        # get relevant BERT encodings\n",
        "        with torch.no_grad():\n",
        "            encoded_input = BERT_encoder(x, attention_mask=attn_masks)[0]\n",
        "            relevant_encodings = torch.stack([encoded_input[j, idx[j], :] \n",
        "                                              for j in range(B)])\n",
        "        # forward pass of EN2NL head\n",
        "        predictions = EN2NL_head(relevant_encodings)\n",
        "        \n",
        "        # backprop\n",
        "        loss = loss_fct(predictions, y)\n",
        "        loss.backward()\n",
        "        optimizer.step()\n",
        "\n",
        "        training_losses.append(loss.item())\n",
        "        if i % 500 == 0:\n",
        "            print(f\"loss at batch {i}: {loss.item()}\")\n",
        "        \n",
        "        if i % 1000 == 0:\n",
        "            torch.save(EN2NL_head, f\"./models/EN2NL_head_e_{epoch}.pt\")\n",
        "            print(f\"model saved at batch {i}\")\n",
        "            # save training losses\n",
        "            with open(f\"./data/training_losses_custom_head_{epoch}.p\", \"wb\") as f:\n",
        "                pkl.dump(training_losses, f)\n",
        "\n",
        "    # save the model\n",
        "    torch.save(EN2NL_head, f\"./models/EN2NL_head_e_{epoch}.pt\")\n",
        "    print(f\"model saved at batch {i}\")\n",
        "\n",
        "    # save training losses\n",
        "    with open(f\"./data/training_losses_custom_head_{epoch}.p\", \"wb\") as f:\n",
        "        pkl.dump(training_losses, f)"
      ],
      "execution_count": null,
      "outputs": []
    },
    {
      "cell_type": "code",
      "metadata": {
        "id": "VgAN1pvI1VJj"
      },
      "source": [
        "def test_sentence_on_EN2NLHead(sentence, idx):\n",
        "    with torch.no_grad():\n",
        "        BERT_encoder.eval()\n",
        "        EN2NL_head.eval()\n",
        "        ids = bert_tokenizer.convert_tokens_to_ids(bert_tokenizer.tokenize(sentence))\n",
        "        encoded_input = BERT_encoder(torch.Tensor(ids).view(1,-1).to(device).long())[0]\n",
        "        rel_input = encoded_input[0, idx,:]\n",
        "        predictions = EN2NL_head(rel_input)\n",
        "        pred_token = torch.argsort(predictions, descending=True)[:5]\n",
        "        prediction = bertje_tokenizer.convert_ids_to_tokens(pred_token)\n",
        "    return prediction"
      ],
      "execution_count": null,
      "outputs": []
    },
    {
      "cell_type": "code",
      "metadata": {
        "id": "Nb35krZP1x-y",
        "outputId": "f76e95ab-b6ba-4e85-88f8-52bc11cfc573",
        "colab": {
          "base_uri": "https://localhost:8080/",
          "height": 34
        }
      },
      "source": [
        "# example_sentence = \"I want to go to the [MASK] to do groceries\"\n",
        "# example_sentence = \"[MASK] I visited my parents with my dog\"\n",
        "example_sentence = \"Yesterday I visited my parents with my [MASK]\"\n",
        "print(test_sentence_on_EN2NLHead(example_sentence, example_sentence.split().index(\"[MASK]\")))"
      ],
      "execution_count": null,
      "outputs": [
        {
          "output_type": "stream",
          "text": [
            "['[UNK]']\n"
          ],
          "name": "stdout"
        }
      ]
    },
    {
      "cell_type": "code",
      "metadata": {
        "id": "LOOT0G0F1zfc",
        "outputId": "e6e6f447-ad3a-47d4-ffca-0286803ec3eb",
        "colab": {
          "base_uri": "https://localhost:8080/",
          "height": 282
        }
      },
      "source": [
        "plt.figure()\n",
        "plt.plot(range(len(training_losses)), training_losses)\n",
        "plt.show()"
      ],
      "execution_count": null,
      "outputs": [
        {
          "output_type": "execute_result",
          "data": {
            "text/plain": [
              "[<matplotlib.lines.Line2D at 0x7fbd61c1c9b0>]"
            ]
          },
          "metadata": {
            "tags": []
          },
          "execution_count": 16
        },
        {
          "output_type": "display_data",
          "data": {
            "image/png": "[encoded data removed]",
            "text/plain": [
              "<Figure size 432x288 with 1 Axes>"
            ]
          },
          "metadata": {
            "tags": [],
            "needs_background": "light"
          }
        }
      ]
    },
    {
      "cell_type": "markdown",
      "metadata": {
        "id": "YMtEuyQXI8A-"
      },
      "source": [
        "# General Performance"
      ]
    },
    {
      "cell_type": "code",
      "metadata": {
        "id": "NC_6jvKw4kjO"
      },
      "source": [
        "# create dataloader once\n",
        "!python data/dataloader_EN_NL_labels.py"
      ],
      "execution_count": null,
      "outputs": []
    },
    {
      "cell_type": "code",
      "metadata": {
        "id": "G0qQcjOhHJZ4"
      },
      "source": [
        "# load test set\n",
        "with open('./data/Test/dataloader_test_EN.p', 'rb') as f:\n",
        "    EN_test_set = pkl.load(f)"
      ],
      "execution_count": null,
      "outputs": []
    },
    {
      "cell_type": "markdown",
      "metadata": {
        "id": "SSwad5lfRnoe"
      },
      "source": [
        "## Our transfer model"
      ]
    },
    {
      "cell_type": "markdown",
      "metadata": {
        "id": "o7QZpvC9Zgvq"
      },
      "source": [
        "Run on test set, save losses and errors for all test instances"
      ]
    },
    {
      "cell_type": "code",
      "metadata": {
        "id": "LgAgOOZbE6nL",
        "outputId": "6e75088b-d7b4-4d9a-f61b-e7a626baecc6",
        "colab": {
          "base_uri": "https://localhost:8080/",
          "height": 295
        }
      },
      "source": [
        "# Initialize\n",
        "from dataloader_padded import load_padded_batches_TEST\n",
        "device = torch.device(\"cuda\" if torch.cuda.is_available() else \"cpu\")\n",
        "BERT_encoder = BertModel.from_pretrained('bert-base-cased').to(device)\n",
        "BERT_encoder.eval()\n",
        "\n",
        "# load the EN2NL HEAD\n",
        "EN2NL_head = torch.load(f\"./models/EN2NL_final.pt\").to(device)\n",
        "EN2NL_head.eval()\n",
        "\n",
        "all_binary_errors = []\n",
        "all_losses = []\n",
        "\n",
        "with torch.no_grad():\n",
        "\n",
        "    # set reduction to none to save losses for every instance\n",
        "    CE_loss = nn.CrossEntropyLoss(reduction='none')\n",
        "    \n",
        "    # iterate over the batches\n",
        "    for i, (x, y, attn_masks, idx) in enumerate(load_padded_batches_TEST(EN_test_set, batch_size=32)):\n",
        "        B = x.shape[0]\n",
        "\n",
        "        x = torch.Tensor(x).to(device).long()\n",
        "        y = torch.Tensor(y).to(device).long()\n",
        "        attn_masks = torch.Tensor(attn_masks).to(device).long()\n",
        "\n",
        "        # get BERT encodings and prediction from our custom head\n",
        "        encoded_input = BERT_encoder(x, attention_mask=attn_masks)[0]\n",
        "        relevant_encodings = torch.stack([encoded_input[j, idx[j], :] for j in range(B)])\n",
        "        predictions = EN2NL_head(relevant_encodings)\n",
        "\n",
        "        # extract top 5 predictions and save\n",
        "        top_5 = torch.argsort(predictions, dim=1, descending=True)[:,:5]\n",
        "        top_5_errors = [1 if y[k] in li else 0 for k, li in enumerate(top_5)]\n",
        "        all_binary_errors += top_5_errors\n",
        "\n",
        "        # get loss per training instance\n",
        "        non_reduced_loss = CE_loss(predictions, y)\n",
        "    \n",
        "        # save all individual training losses\n",
        "        for ind_loss in non_reduced_loss:\n",
        "            all_losses.append(ind_loss.item())\n",
        "\n",
        "        # compute the batch loss \n",
        "        loss = torch.mean(non_reduced_loss)\n",
        "\n",
        "        if i % 500 == 0:\n",
        "            print(f\"loss at batch {i}: {loss.item()}\")\n",
        "\n",
        "    with open(\"./data/metrics/all_losses_EN_test_final.p\", \"wb\") as f:\n",
        "        pkl.dump(all_losses, f)\n",
        "\n",
        "    with open(\"./data/metrics/binary_errors_EN_test_final.p\", \"wb\") as f:\n",
        "        pkl.dump(all_binary_errors, f)\n"
      ],
      "execution_count": null,
      "outputs": [
        {
          "output_type": "stream",
          "text": [
            "loss at batch 0: 5.727734565734863\n",
            "loss at batch 500: 5.952968597412109\n",
            "loss at batch 1000: 4.878789901733398\n",
            "loss at batch 1500: 5.869341850280762\n",
            "loss at batch 2000: 6.19115686416626\n",
            "loss at batch 2500: 5.702114105224609\n",
            "loss at batch 3000: 4.968757152557373\n",
            "loss at batch 3500: 6.705293655395508\n",
            "loss at batch 4000: 5.674705505371094\n",
            "loss at batch 4500: 5.338405609130859\n",
            "loss at batch 5000: 5.181361198425293\n",
            "loss at batch 5500: 6.495500564575195\n",
            "loss at batch 6000: 4.248301029205322\n",
            "loss at batch 6500: 5.975327968597412\n",
            "loss at batch 7000: 5.468207359313965\n",
            "loss at batch 7500: 5.435983657836914\n"
          ],
          "name": "stdout"
        }
      ]
    },
    {
      "cell_type": "code",
      "metadata": {
        "id": "leAZgDSgXCIX",
        "outputId": "aab4d39e-5223-4998-86e3-c9e79eee8f15",
        "colab": {
          "base_uri": "https://localhost:8080/",
          "height": 52
        }
      },
      "source": [
        "# print evaluation statistics\n",
        "with open(f\"./data/metrics/all_losses_EN_test_final.p\", \"rb\") as f:\n",
        "    all_losses_final = pkl.load(f)\n",
        "print(f\"Mean loss our model: {np.mean(all_losses_final)}, perplexity: {np.exp(np.mean(all_losses_final))}\")\n",
        "\n",
        "with open(f\"./data/metrics/binary_errors_EN_test_final.p\", \"rb\") as f:\n",
        "    binary_errors_final = pkl.load(f)\n",
        "print(f\"Mean binary errors (accuracy): {np.mean(binary_errors_final)}\")\n"
      ],
      "execution_count": null,
      "outputs": [
        {
          "output_type": "stream",
          "text": [
            "Mean loss our model final: 5.826997689901793, perplexity: 339.33834921230573\n",
            "Mean binary errors final: 0.37911686586985394\n"
          ],
          "name": "stdout"
        }
      ]
    },
    {
      "cell_type": "markdown",
      "metadata": {
        "id": "8qCrWkYORtTV"
      },
      "source": [
        "## BERTJE (Native Model)"
      ]
    },
    {
      "cell_type": "code",
      "metadata": {
        "id": "npyOppJUylCf"
      },
      "source": [
        "# create dataloader\n",
        "!python data/dataloader.py"
      ],
      "execution_count": null,
      "outputs": []
    },
    {
      "cell_type": "code",
      "metadata": {
        "id": "-c8gr71eTJV6"
      },
      "source": [
        "# load in separate cell to reduce running time\n",
        "with open('./data/Test/NL_test_dataloader.p', 'rb') as f:\n",
        "    NL_test_set = pkl.load(f)"
      ],
      "execution_count": null,
      "outputs": []
    },
    {
      "cell_type": "code",
      "metadata": {
        "id": "caPD8ZdzRwjT"
      },
      "source": [
        "# Initialize\n",
        "device = torch.device(\"cuda\" if torch.cuda.is_available() else \"cpu\")\n",
        "BERTje = BertForMaskedLM.from_pretrained(\"wietsedv/bert-base-dutch-cased\").to(device)\n",
        "BERTje.eval()\n",
        "\n",
        "from dataloader_padded import load_padded_batches_TEST\n",
        "\n",
        "all_binary_errors = []\n",
        "all_losses = []\n",
        "\n",
        "with torch.no_grad():\n",
        "\n",
        "    # keep track of the individual indices for which the correct word is not in the top 5\n",
        "    CE_loss = nn.CrossEntropyLoss(reduction='none')\n",
        "    \n",
        "    for i, (x, y, attn_masks, idx) in enumerate(load_padded_batches_TEST(NL_test_set, batch_size=32)):\n",
        "        B = x.shape[0]\n",
        "        \n",
        "        # set all tensors to device and in correct format\n",
        "        x = torch.Tensor(x).to(device).long()\n",
        "        y = torch.Tensor(y).to(device).long()\n",
        "        attn_masks = torch.Tensor(attn_masks).to(device).long()\n",
        "\n",
        "        # get predictions and word scores\n",
        "        predictions = BERTje(x, attention_mask=attn_masks)[0]\n",
        "        word_scores = torch.stack([predictions[j, idx[j], :] for j in range(B)])\n",
        "\n",
        "        # extract top 5 predictions and save correct / wrong\n",
        "        top_5 = torch.argsort(word_scores, dim=1, descending=True)[:,:5]\n",
        "        top_5_errors = [1 if y[k] in li else 0 for k, li in enumerate(top_5)]\n",
        "        all_binary_errors += top_5_errors\n",
        "        \n",
        "        # get loss per training instance\n",
        "        non_reduced_loss = CE_loss(word_scores, y) # tensor of size batch size\n",
        "        \n",
        "        # save individual training losses\n",
        "        for ind_loss in non_reduced_loss:\n",
        "            all_losses.append(ind_loss.item())\n",
        "\n",
        "        loss = torch.mean(non_reduced_loss)\n",
        "\n",
        "        if i % 100 == 0:\n",
        "            print(f\"loss at batch {i}: {loss.item()}\")\n",
        "\n",
        "    with open(\"./data/metrics/all_losses_NL_test.p\", \"wb\") as f:\n",
        "        pkl.dump(all_losses, f)\n",
        "\n",
        "    with open(\"./data/metrics/binary_errors_NL_test.p\", \"wb\") as f:\n",
        "        pkl.dump(all_binary_errors, f)\n"
      ],
      "execution_count": null,
      "outputs": []
    },
    {
      "cell_type": "code",
      "metadata": {
        "id": "LhRibJAcWvps",
        "outputId": "74fe7f1a-dadf-4ebf-e898-f2697f772241",
        "colab": {
          "base_uri": "https://localhost:8080/",
          "height": 52
        }
      },
      "source": [
        "# general performance BERTje\n",
        "with open(f\"./data/metrics/all_losses_NL_test.p\", \"rb\") as f:\n",
        "        all_losses = pkl.load(f)\n",
        "print(f\"Mean loss native model (BERTje): {np.mean(all_losses)}, perplexity: {np.exp(np.mean(all_losses))}\")\n",
        "\n",
        "with open(f\"./data/metrics/binary_errors_NL_test.p\", \"rb\") as f:\n",
        "        binary_errors = pkl.load(f)\n",
        "print(f\"Accuracy native model (BERTje): {np.mean(binary_errors)}\")"
      ],
      "execution_count": null,
      "outputs": [
        {
          "output_type": "stream",
          "text": [
            "Mean loss native model (BERTje): 2.838130047092162, perplexity: 17.083789767519054\n",
            "Mean loss native model (BERTje): 0.6848066069057105\n"
          ],
          "name": "stdout"
        }
      ]
    },
    {
      "cell_type": "markdown",
      "metadata": {
        "id": "r4LX4rWHTuoB"
      },
      "source": [
        "# Experiment: Sentence Length\n"
      ]
    },
    {
      "cell_type": "markdown",
      "metadata": {
        "id": "pnL0kb8aOgus"
      },
      "source": [
        "The pipeline in this section is as follows:\n",
        "- We open the dataloader and the losses for all test instances from a saved pickle\n",
        "- We create a dictionary with all the losses per sentence length\n",
        "- Then we compute the average loss per sentence length, and exponentiate this loss to obtain the perplexity per length\n",
        "- A plot is created"
      ]
    },
    {
      "cell_type": "code",
      "metadata": {
        "id": "DklUT9HIUOP2"
      },
      "source": [
        "from collections import defaultdict\n",
        "# set language for analysis: EN is our model, NL is the native BERTje model.\n",
        "# after running this cell, the following cells will act accordingly\n",
        "language = \"EN\"\n",
        "# language = \"NL\""
      ],
      "execution_count": null,
      "outputs": []
    },
    {
      "cell_type": "code",
      "metadata": {
        "id": "dyXNhrXYN2K2"
      },
      "source": [
        "if language == \"EN\":\n",
        "    with open(f'./data/Test/dataloader_test_EN.p', 'rb') as f:\n",
        "        test_set = pkl.load(f)\n",
        "elif language == \"NL\":\n",
        "    with open('./data/Test/NL_test_dataloader.p', 'rb') as f:\n",
        "        test_set = pkl.load(f)\n",
        "else:\n",
        "    raise ValueError(\"Incorrect language specified\")"
      ],
      "execution_count": null,
      "outputs": []
    },
    {
      "cell_type": "code",
      "metadata": {
        "id": "cQ32yxtaNL7T"
      },
      "source": [
        "if language == \"EN\":\n",
        "    with open(f\"./data/metrics/all_losses_EN_test_final.p\", \"rb\") as f:\n",
        "        all_losses = pkl.load(f)\n",
        "elif language == \"NL\":    \n",
        "    with open(f\"./data/metrics/all_losses_NL_test.p\", \"rb\") as f:\n",
        "        all_losses = pkl.load(f)"
      ],
      "execution_count": null,
      "outputs": []
    },
    {
      "cell_type": "code",
      "metadata": {
        "id": "n-_ja1MZNxA2",
        "outputId": "7e727354-5de8-498d-abf8-465ccfb780c9",
        "colab": {
          "base_uri": "https://localhost:8080/",
          "height": 34
        }
      },
      "source": [
        "# get a list of all the sentence lengths and corresponding losses\n",
        "losses_per_length = defaultdict(list)\n",
        "length_counter = defaultdict(int)\n",
        "for iter_, ((sent, _, _), loss) in enumerate(zip(test_set, all_losses)):\n",
        "    length = list(sent.shape)[0]\n",
        "    length_counter[length] += 1\n",
        "    losses_per_length[length].append(loss)\n",
        "\n",
        "print(f\"Number of different sentence lengths: {len(list(losses_per_length.keys()))}\")\n",
        "\n",
        "with open(f\"./data/metrics/losses_per_length_{language}.p\", \"wb\") as f:\n",
        "    pkl.dump(losses_per_length, f)\n"
      ],
      "execution_count": null,
      "outputs": [
        {
          "output_type": "stream",
          "text": [
            "Number of different sentence lengths: 103\n"
          ],
          "name": "stdout"
        }
      ]
    },
    {
      "cell_type": "code",
      "metadata": {
        "id": "3Q_juiF9OqbU"
      },
      "source": [
        "# compute the average loss and perplexity per sentence length\n",
        "with open(f\"./data/metrics/losses_per_length_{language}.p\", \"rb\") as f:\n",
        "    losses_per_length = pkl.load(f)\n",
        "\n",
        "perplexity_per_length = dict()\n",
        "for length, losses in losses_per_length.items():\n",
        "    mean_loss = np.mean(losses)\n",
        "    if len(losses) > length:\n",
        "        perplexity_per_length[length] = np.exp(mean_loss)\n",
        "\n",
        "with open(f\"./data/metrics/perplexity_length_{language}.p\", \"wb\") as f:\n",
        "    pkl.dump(perplexity_per_length, f)"
      ],
      "execution_count": null,
      "outputs": []
    },
    {
      "cell_type": "markdown",
      "metadata": {
        "id": "otFIuPKiv325"
      },
      "source": [
        "## Plot perplexities for both models"
      ]
    },
    {
      "cell_type": "code",
      "metadata": {
        "id": "6S7qzc1FgRg0",
        "outputId": "377ff507-b9dd-4823-cebe-7181409ab07a",
        "colab": {
          "base_uri": "https://localhost:8080/",
          "height": 537
        }
      },
      "source": [
        "import matplotlib\n",
        "# read perplexities\n",
        "with open(f\"./data/metrics/perplexity_length_EN.p\", \"rb\") as f:\n",
        "    perplexity_per_length_EN = pkl.load(f)\n",
        "with open(f\"./data/metrics/perplexity_length_NL.p\", \"rb\") as f:\n",
        "    perplexity_per_length_NL = pkl.load(f)\n",
        "\n",
        "\n",
        "matplotlib.rcParams.update({'font.size': 18})\n",
        "barWidth = 0.5\n",
        "\n",
        "# extract lengths and perplexities\n",
        "lengths_EN = list(perplexity_per_length_EN.keys())\n",
        "perplexities_EN = list(perplexity_per_length_EN.values())\n",
        "lengths_NL = list(perplexity_per_length_NL.keys())\n",
        "perplexities_NL = list(perplexity_per_length_NL.values())\n",
        "\n",
        "# sort perplexities based on length\n",
        "lengths_EN, perplexities_EN = zip(*sorted(zip(lengths_EN, perplexities_EN)))\n",
        "lengths_NL, perplexities_NL = zip(*sorted(zip(lengths_NL, perplexities_NL)))\n",
        "\n",
        "x = np.arange(len(lengths_EN))\n",
        "\n",
        "# plot bar chart\n",
        "plt.figure(figsize=(16,8))\n",
        "plt.bar(x, perplexities_EN,color='r', label=\"Our transferred model\", width=barWidth)\n",
        "plt.bar([i+barWidth for i in x], perplexities_NL,color='b', label=\"Native model (BERTje)\", width=barWidth)\n",
        "plt.xticks([r+barWidth for r in range(0, len(lengths_EN), 5)], lengths_EN[::5])\n",
        "plt.yscale('log')\n",
        "plt.ylim(10**1, 10**3)\n",
        "plt.title(\"Perplexity per sentence length for both models ($N_L > 1$)\")\n",
        "plt.ylabel(\"Perplexity\")\n",
        "plt.xlabel(\"Sentence length\")\n",
        "plt.legend()\n",
        "plt.show()"
      ],
      "execution_count": null,
      "outputs": [
        {
          "output_type": "display_data",
          "data": {
            "image/png": "[encoded data removed]",
            "text/plain": [
              "<Figure size 1152x576 with 1 Axes>"
            ]
          },
          "metadata": {
            "tags": [],
            "needs_background": "light"
          }
        }
      ]
    },
    {
      "cell_type": "markdown",
      "metadata": {
        "id": "Okt63QsmvbYf"
      },
      "source": [
        "# Experiment: POS-tag analysis"
      ]
    },
    {
      "cell_type": "code",
      "metadata": {
        "id": "CKVEIR9D0Kzf"
      },
      "source": [
        "# create dataset once\n",
        "!pip install -U spacy\n",
        "!python -m spacy download nl_core_news_sm\n",
        "!python data/dataloader_pos.py"
      ],
      "execution_count": null,
      "outputs": []
    },
    {
      "cell_type": "code",
      "metadata": {
        "id": "cqrbmBgpM86Z"
      },
      "source": [
        "with open('./data/Test/dataloader_pos_tagged.p', 'rb') as f:\n",
        "    test_set_pos_tagged = pkl.load(f)\n",
        "with open(f'./data/metrics/binary_errors_EN_test_final.p', 'rb') as f:\n",
        "    all_top5_errors_EN = pkl.load(f)\n",
        "with open(f'./data/metrics/binary_errors_NL_test.p', 'rb') as f:\n",
        "    all_top5_errors_NL = pkl.load(f)"
      ],
      "execution_count": null,
      "outputs": []
    },
    {
      "cell_type": "code",
      "metadata": {
        "id": "1XJw09buM_0l"
      },
      "source": [
        "# errors are indicated by 0, correct by 1\n",
        "def get_error_tags(test_set_pos_tagged, all_top_5_errors):\n",
        "    pos_tags = [tags[i] for (_, _, tags, i) in test_set_pos_tagged]\n",
        "    error_tags = Counter()\n",
        "    all_tags = Counter()\n",
        "    for i, tag in enumerate(pos_tags[:-10]):\n",
        "        if all_top_5_errors[i] == 0:\n",
        "            error_tags[tag] += 1\n",
        "        all_tags[tag] += 1\n",
        "\n",
        "    return all_tags, error_tags\n",
        "\n",
        "_, error_tags_EN = get_error_tags(test_set_pos_tagged, all_top5_errors_EN)\n",
        "all_tags, error_tags_NL = get_error_tags(test_set_pos_tagged, all_top5_errors_NL)"
      ],
      "execution_count": null,
      "outputs": []
    },
    {
      "cell_type": "code",
      "metadata": {
        "id": "cfYNMFK7NDif",
        "outputId": "4810c884-ebb7-4c0c-b4f0-7362574a9984",
        "colab": {
          "base_uri": "https://localhost:8080/",
          "height": 535
        }
      },
      "source": [
        "# plot the results\n",
        "import matplotlib\n",
        "matplotlib.rcParams.update({'font.size': 18})\n",
        "\n",
        "# get 10 most frequent NL keys\n",
        "keys_NL = [i for i in error_tags_NL.most_common(10)]\n",
        "values_NL = [v/all_tags[k] for k, v in keys_NL]\n",
        "\n",
        "# sort both lists on the values\n",
        "values_NL, keys_NL = zip(*sorted(zip(values_NL, keys_NL))[::-1])\n",
        "values_EN = [error_tags_EN[k]/all_tags[k] for k, _ in keys_NL]\n",
        "\n",
        "labels = [i[0] for i in keys_NL]\n",
        "barwidth = 0.3\n",
        "\n",
        "plt.figure(figsize=(16, 8))\n",
        "x = np.arange(len(keys_NL))\n",
        "plt.bar(x, values_NL, color='darkblue', label=\"Native model (BERTje)\", width=barwidth)\n",
        "plt.bar([i+barwidth for i in x], values_EN, color= 'crimson', label=\"Our transferred model\", width=barwidth)\n",
        "plt.xticks([r+1/2*barwidth for r in range(len(labels))], labels)\n",
        "plt.ylim(0, 0.75)\n",
        "plt.ylabel('Relative error')\n",
        "plt.xlabel(\"POS-tag\")\n",
        "plt.title(f\"Relative error in POS-tags for both models\")\n",
        "plt.legend()\n",
        "plt.show()"
      ],
      "execution_count": null,
      "outputs": [
        {
          "output_type": "display_data",
          "data": {
            "image/png": "[encoded data removed]",
            "text/plain": [
              "<Figure size 1152x576 with 1 Axes>"
            ]
          },
          "metadata": {
            "tags": [],
            "needs_background": "light"
          }
        }
      ]
    },
    {
      "cell_type": "markdown",
      "metadata": {
        "id": "TVDLsa1soTfY"
      },
      "source": [
        "# Comparison MLP and manual Translation"
      ]
    },
    {
      "cell_type": "code",
      "metadata": {
        "id": "OO0lCsGtF7xC",
        "outputId": "eee8e2c6-806e-4c6e-e1b4-b12ba1aecc96",
        "colab": {
          "base_uri": "https://localhost:8080/",
          "height": 106
        }
      },
      "source": [
        "# In this cell an example sentence is translated using our learned transformation\n",
        "\n",
        "device = torch.device(\"cuda\" if torch.cuda.is_available() else \"cpu\")\n",
        "all_en_embeddings = bert_embeds(torch.Tensor(list(range(bert_tokenizer.vocab_size))).to(device).long())\n",
        "all_nl_embeddings = bertje_embeds(torch.Tensor(list(range(bertje_tokenizer.vocab_size))).to(device).long())\n",
        "cossim = nn.CosineSimilarity(dim=-1)\n",
        "net = torch.load(\"./models/MLP_final.pt\", map_location=device)\n",
        "\n",
        "with torch.no_grad():\n",
        "    dutch_text = 'Bert is de langste van de twee; hij heeft een lang geel hoofd met een oranje neus, een verticaal gestreepte trui en is duidelijk herkenbaar aan zijn ene doorlopende wenkbrauw.'\n",
        "    tokenized_sentence = bertje_tokenizer.tokenize(dutch_text)\n",
        "    print(f\"Dutch text: {dutch_text}\")\n",
        "    print(f\"Tokenized text: {tokenized_sentence}\")\n",
        "\n",
        "    # convert sentence to embeddings\n",
        "    dutch_embedding = bertje_embeds(torch.Tensor(\n",
        "        bertje_tokenizer.convert_tokens_to_ids(tokenized_sentence)).long().to(device))\n",
        "    \n",
        "    # feed the batch with all embeddings for the words in the sentence to MLP\n",
        "    en_embeddings = net(dutch_embedding)\n",
        "\n",
        "    print(f\"Translation: \", end=\" \"))\n",
        "    # for every word find the closest embedding\n",
        "    for word_embed in en_embeddings:\n",
        "        cosine = cossim(all_en_embeddings, word_embed)\n",
        "        best_token = torch.argmax(cosine)\n",
        "        best_match = bert_tokenizer.convert_ids_to_tokens([best_token])\n",
        "        print(best_match[0], end=\" \")\n",
        "    print(\"\\n\")"
      ],
      "execution_count": null,
      "outputs": [
        {
          "output_type": "stream",
          "text": [
            "Bert is de langste van de twee; hij heeft een lang geel hoofd met een oranje neus, een verticaal gestreepte trui en is duidelijk herkenbaar aan zijn ene doorlopende wenkbrauw.\n",
            "['Bert', 'is', 'de', 'langste', 'van', 'de', 'twee', ';', 'hij', 'heeft', 'een', 'lang', 'geel', 'hoofd', 'met', 'een', 'oranje', 'neus', ',', 'een', 'verticaal', 'gestreept', '##e', 'trui', 'en', 'is', 'duidelijk', 'herkenbaar', 'aan', 'zijn', 'en', '##e', 'doorlopen', '##de', 'wenkbrauw', '.']\n",
            "570 is the longest from the three but he has a long yellow head with a yellow nose and a horizontal striped , sweater and is clearly recognizable on his and , enter with eyebrow with \n",
            "\n"
          ],
          "name": "stdout"
        }
      ]
    },
    {
      "cell_type": "markdown",
      "metadata": {
        "id": "_DGMVIcoGAXO"
      },
      "source": [
        "# Comparison with Google Translate data\n"
      ]
    },
    {
      "cell_type": "code",
      "metadata": {
        "id": "sR9_fx000WKr"
      },
      "source": [
        "# create dataloaders once\n",
        "!python data/dataloader_gt_EN_labels.py\n",
        "!python data/dataloader_EN_labels.py"
      ],
      "execution_count": null,
      "outputs": []
    },
    {
      "cell_type": "code",
      "metadata": {
        "id": "DNc705CoGEWq",
        "outputId": "046c5cfa-ed2f-4b79-cd87-55912c150c22",
        "colab": {
          "base_uri": "https://localhost:8080/",
          "height": 295
        }
      },
      "source": [
        "device = torch.device(\"cuda\" if torch.cuda.is_available() else \"cpu\")\n",
        "\n",
        "# set experiment type, see descriptions in if statement below\n",
        "experiment = 1 # can be 1, 2, 3\n",
        "\n",
        "if experiment == 1:\n",
        "    # Google translated dataset with english labels (BERT only)\n",
        "    with open('./data/GT/google_translate_dataloader_en_labels.p', \"rb\") as f:\n",
        "        dataset = pkl.load(f)\n",
        "    BERT = BertForMaskedLM.from_pretrained('bert-base-cased').to(device)\n",
        "    BERT.eval()  \n",
        "    print(\"Running Google translated dataset with English labels, using full BERT architecture\")\n",
        "\n",
        "elif experiment == 2:\n",
        "    # MLP translated dataset with english labels (BERT only)\n",
        "    with open('./data/Test/EN_test_EN_labels.p', \"rb\") as f:\n",
        "        dataset = pkl.load(f)\n",
        "    BERT = BertForMaskedLM.from_pretrained('bert-base-cased').to(device)\n",
        "    BERT.eval()\n",
        "    print(\"Running MLP translated dataset with English labels, using full BERT architecture\")\n",
        "\n",
        "elif experiment == 3:\n",
        "    # MLP translated dataset with Dutch labels (default pipeline) (BERT encoder + custom head)\n",
        "    with open('./data/Test/dataloader_test_EN.p', \"rb\") as f:\n",
        "        dataset = pkl.load(f)\n",
        "    BERT_encoder = BertModel.from_pretrained('bert-base-cased').to(device)\n",
        "    BERT_encoder.eval()\n",
        "    EN2NL_head = torch.load(\"./models/EN2NL_final.pt\").to(device)\n",
        "    EN2NL_head.eval()\n",
        "    print(\"Running MLP translated dataset with Dutch labels, using BERT encoder and our custom prediction head\")\n",
        " \n",
        "else:\n",
        "    raise ValueError(\"Incorrect experiment number\")\n",
        "\n",
        "from dataloader_padded import load_padded_batches_TEST\n",
        "loss_fn = nn.CrossEntropyLoss(reduction='none')\n",
        "training_losses = []\n",
        "\n",
        "# run the experiment on the correct test set\n",
        "with torch.no_grad():\n",
        "    for i, (x, y, attn_masks, idx) in enumerate(load_padded_batches_TEST(dataset, batch_size=32)):\n",
        "        B = x.shape[0]\n",
        "        if i % 500 == 0:\n",
        "            print(f\"iter: {i}\")\n",
        "        \n",
        "        x = torch.Tensor(x).to(device).long()\n",
        "        y = torch.Tensor(y).to(device).long()\n",
        "        attn_masks = torch.Tensor(attn_masks).to(device).long()\n",
        "        \n",
        "        # get predictions from correct models\n",
        "        if experiment in [1, 2]:\n",
        "            predictions = BERT(x, attention_mask=attn_masks)[0]\n",
        "            predictions = torch.stack([predictions[j, idx[j], :] for j in range(B)])\n",
        "        elif experiment == 3:\n",
        "            encoded_input = BERT_encoder(x, attention_mask=attn_masks)[0]\n",
        "            relevant_encodings = torch.stack([encoded_input[j, idx[j], :] for j in range(B)])\n",
        "            predictions = EN2NL_head(relevant_encodings)\n",
        "\n",
        "        non_reduced_loss = loss_fn(predictions, y)\n",
        "    \n",
        "        for ind_loss in non_reduced_loss:\n",
        "            training_losses.append(ind_loss.item())\n",
        "\n",
        "    # save the losses\n",
        "    if experiment == 1:\n",
        "        with open(\"./data/metrics/training_losses_Google_EN_labels.pt\", \"wb\") as f:\n",
        "            pkl.dump(training_losses, f)\n",
        "    elif experiment == 2:\n",
        "        with open(\"./data/metrics/training_losses_MLP_EN_labels.pt\", \"wb\") as f:\n",
        "            pkl.dump(training_losses, f)\n",
        "    elif experiment == 3:\n",
        "        with open(\"./data/metrics/training_losses_MLP_NL_labels.pt\", \"wb\") as f:\n",
        "            pkl.dump(training_losses, f)\n"
      ],
      "execution_count": null,
      "outputs": [
        {
          "output_type": "stream",
          "text": [
            "Running Google translated dataset with English labels, using full BERT architecture\n",
            "iter: 0\n",
            "iter: 500\n",
            "iter: 1000\n",
            "iter: 1500\n",
            "iter: 2000\n",
            "iter: 2500\n",
            "iter: 3000\n",
            "iter: 3500\n",
            "iter: 4000\n",
            "iter: 4500\n",
            "iter: 5000\n",
            "iter: 5500\n",
            "iter: 6000\n",
            "iter: 6500\n",
            "iter: 7000\n"
          ],
          "name": "stdout"
        }
      ]
    },
    {
      "cell_type": "markdown",
      "metadata": {
        "id": "jNo4m82PXRyp"
      },
      "source": [
        "### Experiment 1"
      ]
    },
    {
      "cell_type": "code",
      "metadata": {
        "id": "wptafWvkcBSJ",
        "outputId": "1977da56-5b1e-4038-e23c-c4241347bce3",
        "colab": {
          "base_uri": "https://localhost:8080/",
          "height": 52
        }
      },
      "source": [
        "# google translation with full BERT architecture (baseline, no own models)\n",
        "with open(\"./data/metrics/training_losses_Google_EN_labels.pt\", \"rb\") as f:\n",
        "    training_losses = pkl.load(f)\n",
        "\n",
        "print(f\"Results for {len(training_losses)} instances\")\n",
        "\n",
        "mean_CE_loss = np.mean(training_losses)\n",
        "perplexity = np.exp(mean_CE_loss)\n",
        "print(f\"Mean CE loss: {mean_CE_loss}, perplexity: {perplexity}\")"
      ],
      "execution_count": null,
      "outputs": [
        {
          "output_type": "stream",
          "text": [
            "Results for 234464 instances\n",
            "Mean CE loss: 3.172593301315416, perplexity: 23.869304461360564\n"
          ],
          "name": "stdout"
        }
      ]
    },
    {
      "cell_type": "markdown",
      "metadata": {
        "id": "-luN4QN5XVJL"
      },
      "source": [
        "### Experiment 2"
      ]
    },
    {
      "cell_type": "code",
      "metadata": {
        "id": "kWVtDxEJcmTI",
        "outputId": "fb50e475-deaa-41b4-a7e2-5fa7e305edb5",
        "colab": {
          "base_uri": "https://localhost:8080/",
          "height": 52
        }
      },
      "source": [
        "# Own MLP translation + full BERT architecture (EN labels)\n",
        "with open(\"./data/metrics/training_losses_MLP_EN_labels.pt\", \"rb\") as f:\n",
        "    training_losses = pkl.load(f)\n",
        "\n",
        "print(f\"Results for {len(training_losses)} instances\")\n",
        "mean_CE_loss = np.mean(training_losses)\n",
        "perplexity = np.exp(mean_CE_loss)\n",
        "print(f\"Mean CE loss: {mean_CE_loss}, perplexity: {perplexity}\")"
      ],
      "execution_count": null,
      "outputs": [
        {
          "output_type": "stream",
          "text": [
            "Results for 240960 instances\n",
            "Mean CE loss: 7.001859089878609, perplexity: 1098.673794308856\n"
          ],
          "name": "stdout"
        }
      ]
    },
    {
      "cell_type": "markdown",
      "metadata": {
        "id": "fA6HMUeuXXSq"
      },
      "source": [
        "### Experiment 3"
      ]
    },
    {
      "cell_type": "code",
      "metadata": {
        "id": "wCotgYoFjfqb",
        "outputId": "ce84cd68-f4b4-4650-a57c-9399dbcf3205",
        "colab": {
          "base_uri": "https://localhost:8080/",
          "height": 52
        }
      },
      "source": [
        "# MLP translation + BERT encoder + own prediction head (NL labels) --> default pipeline\n",
        "with open(\"./data/metrics/training_losses_MLP_NL_labels.pt\", \"rb\") as f:\n",
        "    training_losses = pkl.load(f)\n",
        "\n",
        "print(f\"Results for {len(training_losses)} instances\")\n",
        "mean_CE_loss = np.mean(training_losses)\n",
        "perplexity = np.exp(mean_CE_loss)\n",
        "print(f\"Mean CE loss: {mean_CE_loss}, perplexity: {perplexity}\")"
      ],
      "execution_count": null,
      "outputs": [
        {
          "output_type": "stream",
          "text": [
            "Ran 240960 batches\n",
            "Mean CE loss: 5.943471048905911, perplexity: 381.2559936723735\n"
          ],
          "name": "stdout"
        }
      ]
    }
  ]
}